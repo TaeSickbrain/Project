{
 "cells": [
  {
   "cell_type": "code",
   "execution_count": 1,
   "metadata": {},
   "outputs": [],
   "source": [
    "from ultralytics import YOLO\n"
   ]
  },
  {
   "cell_type": "code",
   "execution_count": 2,
   "metadata": {},
   "outputs": [],
   "source": [
    "# Load pretrained YOLOv10n model\n",
    "model = YOLO(\"yolov10n.pt\")"
   ]
  },
  {
   "cell_type": "code",
   "execution_count": null,
   "metadata": {},
   "outputs": [],
   "source": [
    "# Define custom training parameters\n",
    "params = {\n",
    "    'data': 'folder project',\n",
    "    'epochs': 30,           # Number of epochs\n",
    "    'imgsz': 640,            # Image size\n",
    "    'cache': False,          # Enable caching\n",
    "    'patience': 10,          # Early stopping patience\n",
    "    'lr0': 0.01,             # Initial learning rate\n",
    "    'lrf': 0.001,            # Final learning rate\n",
    "    'degrees': 0.0,          # Image augmentation (rotation)\n",
    "    'translate': 0.1,        # Image augmentation (translation)\n",
    "    'scale': 0.5,            # Image augmentation (scale)\n",
    "    'shear': 0.0,            # Image augmentation (shear)\n",
    "    'perspective': 0.0,      # Image augmentation (perspective)\n",
    "    'flipud': 0.0,           # Image augmentation (vertical flip)\n",
    "    'fliplr': 0.5,           # Image augmentation (horizontal flip)\n",
    "}\n",
    "# Train the model with custom parameters\n",
    "model.train(**params)"
   ]
  },
  {
   "cell_type": "code",
   "execution_count": null,
   "metadata": {},
   "outputs": [],
   "source": [
    "model.val(data='folder project')"
   ]
  }
 ],
 "metadata": {
  "kernelspec": {
   "display_name": "cv",
   "language": "python",
   "name": "python3"
  },
  "language_info": {
   "codemirror_mode": {
    "name": "ipython",
    "version": 3
   },
   "file_extension": ".py",
   "mimetype": "text/x-python",
   "name": "python",
   "nbconvert_exporter": "python",
   "pygments_lexer": "ipython3",
   "version": "3.12.4"
  }
 },
 "nbformat": 4,
 "nbformat_minor": 2
}
